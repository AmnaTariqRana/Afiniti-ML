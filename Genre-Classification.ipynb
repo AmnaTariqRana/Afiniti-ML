{
 "cells": [
  {
   "cell_type": "markdown",
   "id": "4d5af420",
   "metadata": {},
   "source": [
    "<h2 align=\"center\">Libraries</h2>"
   ]
  },
  {
   "cell_type": "code",
   "execution_count": 8,
   "id": "3b1ddf63",
   "metadata": {},
   "outputs": [],
   "source": [
    "import os\n",
    "import csv\n",
    "import requests\n",
    "import pandas as pd\n",
    "import subprocess"
   ]
  },
  {
   "cell_type": "markdown",
   "id": "8bab805f",
   "metadata": {},
   "source": [
    "<h2 align=\"center\">Downloads Movie Trailers</h2>\n",
    "This downloads a movie's trialer from Youtube using the MovieLens dataset of trailer URLS.<br>\n",
    "yt-dlp is used for downloads, stores movie_name, file_name in the trailerData.csv file"
   ]
  },
  {
   "cell_type": "code",
   "execution_count": null,
   "id": "49609cb9",
   "metadata": {},
   "outputs": [],
   "source": [
    "trailer_amount = 80 #maybe take this amount as input\n",
    "\n",
    "directoryy = \"trailers\"\n",
    "os.makedirs(directoryy, exist_ok=True)\n",
    "data_csv = \"trailerData.csv\"\n",
    "if os.path.exists(data_csv):\n",
    "    existing_df = pd.read_csv(data_csv)\n",
    "else:\n",
    "    existing_df = pd.DataFrame(columns=[\"file_name\", \"movie_name\", \"genre\", \"transcript\"])\n",
    "\n",
    "\n",
    "\n",
    "df = pd.read_csv(\"trailer_address.csv\")\n",
    "\n",
    "df = df.head(trailer_amount)\n",
    "rows_to_append = []\n",
    "for idx, row in df.iterrows():\n",
    "    video_id = row['youtubeId']\n",
    "    title = row['title'].replace(\" \", \"_\").replace(\"/\", \"_\")\n",
    "    file_name = f\"{title}_{video_id}.mp4\"\n",
    "    output_path = os.path.join(directoryy, file_name)\n",
    "# no duplicate entries\n",
    "    if not ((existing_df['file_name'] == file_name).any()):\n",
    "        if not os.path.exists(output_path):\n",
    "            print(f\"Downloading {title}...\")\n",
    "            command = f'yt-dlp -f mp4 -o \"{output_path}\" https://www.youtube.com/watch?v={video_id}'\n",
    "            subprocess.run(command, shell=True)\n",
    "            if os.path.exists(output_path):#    if download succeeded\n",
    "                rows_to_append.append([file_name, row['title'], \"\", \"\"])\n",
    "        else:\n",
    "            print(f\"{title} already exists.\")\n",
    "            rows_to_append.append([file_name, row['title'], \"\", \"\"])\n",
    "\n",
    "if rows_to_append:# new rows and saving\n",
    "    new_df = pd.DataFrame(rows_to_append, columns=[\"file_name\", \"movie_name\", \"genre\", \"transcript\"])\n",
    "    updated_df = pd.concat([existing_df, new_df], ignore_index=True)\n",
    "    updated_df.to_csv(data_csv, index=False)\n",
    "    print(f\"Updated {data_csv} with {len(rows_to_append)} entries.\")\n",
    "else:\n",
    "    print(\"No new entries added to trailerData.csv\")\n",
    "\n",
    "print(f\"First {trailer_amount} trailers processed.\")"
   ]
  },
  {
   "cell_type": "markdown",
   "id": "eff107b8",
   "metadata": {},
   "source": [
    "<h2 align=\"center\">Scrape Genre's from TMDB</h2>\n",
    "This scrapes the genre of a movie against it's name from The Movie Data Base(TMDB), then updates the trailerData.csv file"
   ]
  },
  {
   "cell_type": "code",
   "execution_count": 9,
   "id": "c83b581b",
   "metadata": {},
   "outputs": [
    {
     "name": "stdout",
     "output_type": "stream",
     "text": [
      " Updated trailerData.csv with missing genres.\n"
     ]
    }
   ],
   "source": [
    "API_KEY_for_genre = '5d603ec4bd433ee159af77e58efdc97d'\n",
    "TRAILERs_dir = 'trailers'\n",
    "df_trailersCSV = 'trailerData.csv'\n",
    "trls_URLS = 'trailer_address.csv'\n",
    "\n",
    "def get_movie_genres(movie_title):\n",
    "    \"\"\"Fetch genres of a movie from TMDb.\"\"\"\n",
    "    search_url = 'https://api.themoviedb.org/3/search/movie'\n",
    "    genre_url = 'https://api.themoviedb.org/3/genre/movie/list'\n",
    "    genres_response = requests.get(genre_url, params={'api_key': API_KEY_for_genre})\n",
    "    if genres_response.status_code != 200:\n",
    "        return ''\n",
    "    genre_dict = {g['id']: g['name'] for g in genres_response.json().get('genres', [])}\n",
    "    response = requests.get(search_url, params={'api_key': API_KEY_for_genre, 'query': movie_title})\n",
    "    if response.status_code != 200 or not response.json().get('results'):\n",
    "        return ''\n",
    "    genre_ids = response.json()['results'][0].get('genre_ids', [])\n",
    "    return ','.join([genre_dict.get(gid, '') for gid in genre_ids if gid in genre_dict])\n",
    "\n",
    "def update_empty_genres():\n",
    "    df = pd.read_csv(df_trailersCSV)\n",
    "    df['genre'] = df['genre'].astype(str)\n",
    "    for index, row in df.iterrows():\n",
    "        if pd.isna(row['genre']) or row['genre'].strip() == '':\n",
    "            movie_name_raw = row['movie_name']\n",
    "            movie_name_clean = movie_name_raw.split('(')[0].strip()\n",
    "            genre = get_movie_genres(movie_name_clean)\n",
    "            print(f\"Updated genre for {movie_name_raw}: {genre}\")\n",
    "            df.at[index, 'genre'] = genre\n",
    "\n",
    "    df.to_csv(df_trailersCSV, index=False)\n",
    "    print(\" Updated trailerData.csv with missing genres.\")\n",
    "\n",
    "if __name__ == '__main__':\n",
    "    update_empty_genres()"
   ]
  }
 ],
 "metadata": {
  "kernelspec": {
   "display_name": "Python 3",
   "language": "python",
   "name": "python3"
  },
  "language_info": {
   "codemirror_mode": {
    "name": "ipython",
    "version": 3
   },
   "file_extension": ".py",
   "mimetype": "text/x-python",
   "name": "python",
   "nbconvert_exporter": "python",
   "pygments_lexer": "ipython3",
   "version": "3.12.7"
  }
 },
 "nbformat": 4,
 "nbformat_minor": 5
}
